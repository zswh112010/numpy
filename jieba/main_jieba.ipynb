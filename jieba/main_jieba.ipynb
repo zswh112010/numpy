{
 "cells": [
  {
   "cell_type": "markdown",
   "id": "88e2c068-eeff-4137-93d5-6e4f3001ea31",
   "metadata": {},
   "source": [
    "#结巴分词实践"
   ]
  },
  {
   "cell_type": "markdown",
   "id": "a45948a7-0d14-40cc-a926-36aef47a4f67",
   "metadata": {},
   "source": [
    "##结巴分词的三种模式"
   ]
  },
  {
   "cell_type": "markdown",
   "id": "87831be0-25dc-4b48-aa81-47908a6d3f2d",
   "metadata": {},
   "source": [
    "###精确模式"
   ]
  },
  {
   "cell_type": "code",
   "execution_count": 7,
   "id": "9cdb7842-cac1-45fb-8a7a-ec988c3ff528",
   "metadata": {},
   "outputs": [
    {
     "name": "stdout",
     "output_type": "stream",
     "text": [
      "精确模式: 我/ 来到/ 北京/ 清华大学\n"
     ]
    }
   ],
   "source": [
    "import jieba\n",
    "seg_list = jieba.cut(\"我来到北京清华大学\", cut_all=False)\n",
    "print(\"精确模式: \" + \"/ \".join(seg_list))"
   ]
  },
  {
   "cell_type": "markdown",
   "id": "c1c37eb5-868f-4b6e-b215-ae4f433d3df6",
   "metadata": {},
   "source": [
    "###全模式"
   ]
  },
  {
   "cell_type": "code",
   "execution_count": 3,
   "id": "79a4f864-7b04-4ece-8019-074db67d6cdf",
   "metadata": {},
   "outputs": [
    {
     "name": "stdout",
     "output_type": "stream",
     "text": [
      "全模式: 我/ 来到/ 北京/ 清华/ 清华大学/ 华大/ 大学\n"
     ]
    }
   ],
   "source": [
    "seg_list = jieba.cut(\"我来到北京清华大学\", cut_all=True)\n",
    "print(\"全模式: \" + \"/ \".join(seg_list))"
   ]
  },
  {
   "cell_type": "markdown",
   "id": "afc58811-4250-4940-8fac-9d0b512c2f3d",
   "metadata": {},
   "source": [
    "###搜索引擎模式"
   ]
  },
  {
   "cell_type": "code",
   "execution_count": 5,
   "id": "143200fa-51da-4ece-96ef-4203ded5eecb",
   "metadata": {},
   "outputs": [
    {
     "name": "stdout",
     "output_type": "stream",
     "text": [
      "搜索引擎模式: 小明, 硕士, 毕业, 于, 中国, 科学, 学院, 科学院, 中国科学院, 计算, 计算所, ，, 后, 在, 日本, 京都, 大学, 日本京都大学, 深造\n"
     ]
    }
   ],
   "source": [
    "seg_list = jieba.cut_for_search(\"小明硕士毕业于中国科学院计算所，后在日本京都大学深造\")\n",
    "print(\"搜索引擎模式: \" + \", \".join(seg_list))"
   ]
  },
  {
   "cell_type": "markdown",
   "id": "d0ecb667-130c-46d5-997d-bfba96618c51",
   "metadata": {},
   "source": [
    "###载入分词"
   ]
  },
  {
   "cell_type": "code",
   "execution_count": 9,
   "id": "bc484cd7-4c00-48b2-a824-baeb7439d17f",
   "metadata": {},
   "outputs": [
    {
     "name": "stdout",
     "output_type": "stream",
     "text": [
      "Default Mode: 刘子聪/即将/是/自然语言处理/方面/的/高手\n"
     ]
    }
   ],
   "source": [
    "jieba.load_userdict(\"userdict.txt\")\n",
    "seg_list = jieba.cut(\"刘子聪即将是自然语言处理方面的高手\", cut_all=False, HMM=False)\n",
    "print(\"Default Mode: \" + \"/\".join(seg_list))"
   ]
  }
 ],
 "metadata": {
  "kernelspec": {
   "display_name": "Python 3 (ipykernel)",
   "language": "python",
   "name": "python3"
  },
  "language_info": {
   "codemirror_mode": {
    "name": "ipython",
    "version": 3
   },
   "file_extension": ".py",
   "mimetype": "text/x-python",
   "name": "python",
   "nbconvert_exporter": "python",
   "pygments_lexer": "ipython3",
   "version": "3.9.21"
  }
 },
 "nbformat": 4,
 "nbformat_minor": 5
}
